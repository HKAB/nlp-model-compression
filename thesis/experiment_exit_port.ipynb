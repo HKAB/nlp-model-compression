{
 "cells": [
  {
   "cell_type": "code",
   "execution_count": null,
   "id": "eca40d2b-9a54-4e04-9f6a-84bd6279bd95",
   "metadata": {
    "tags": []
   },
   "outputs": [],
   "source": [
    "import argparse\n",
    "import logging\n",
    "import math\n",
    "import os\n",
    "import random\n",
    "\n",
    "import datasets\n",
    "from datasets import load_dataset, load_metric\n",
    "from torch.utils.data.dataloader import DataLoader\n",
    "from tqdm.auto import tqdm\n",
    "\n",
    "import transformers\n",
    "from accelerate import Accelerator\n",
    "from transformers import (\n",
    "    AdamW,\n",
    "    AutoConfig,\n",
    "    AutoModelForSequenceClassification,\n",
    "    AutoTokenizer,\n",
    "    DataCollatorWithPadding,\n",
    "    PretrainedConfig,\n",
    "    SchedulerType,\n",
    "    default_data_collator,\n",
    "    get_scheduler,\n",
    "    set_seed,\n",
    ")\n",
    "from transformers.utils.versions import require_version\n",
    "\n",
    "# My custom model\n",
    "from models import BranchyBertForSequenceClassification\n",
    "from models import BertConfig\n",
    "import torch\n",
    "import matplotlib.pyplot as plt\n",
    "import numpy as np"
   ]
  },
  {
   "cell_type": "markdown",
   "id": "2bb56250-2827-4aa4-b205-a3dca3cdbc5f",
   "metadata": {},
   "source": [
    "# Test BranchyBert"
   ]
  },
  {
   "cell_type": "code",
   "execution_count": null,
   "id": "a0e5e2de-256f-48f1-b975-7e49c8d6b334",
   "metadata": {},
   "outputs": [],
   "source": [
    "tokenizer = AutoTokenizer.from_pretrained(\"bert-base-uncased\")\n",
    "# change model pretrained path here\n",
    "config = BertConfig(entropy_threshold=[0.5 for i in range(0, 12)], use_pabee=True)\n",
    "model = BranchyBertForSequenceClassification.from_pretrained(\"bert-base-uncased\", config=config)"
   ]
  },
  {
   "cell_type": "code",
   "execution_count": null,
   "id": "c9333b48-cf37-450d-9219-effdd11ae875",
   "metadata": {},
   "outputs": [],
   "source": [
    "inputs = tokenizer([\"Hello, my dog is cute and I am the biggest person in the world haha, Excuse me\"], \n",
    "                   max_length = 128, padding='max_length', truncation=True, return_tensors=\"pt\")\n",
    "labels = torch.tensor([0]).unsqueeze(0)"
   ]
  },
  {
   "cell_type": "code",
   "execution_count": null,
   "id": "eedee9bf-73db-4db3-940d-17d25dd6f2fb",
   "metadata": {},
   "outputs": [],
   "source": [
    "# first phrase\n",
    "outputs = model(**inputs, labels=labels)"
   ]
  },
  {
   "cell_type": "code",
   "execution_count": null,
   "id": "eefe2e60-8452-4ec9-808d-6d54b5333199",
   "metadata": {},
   "outputs": [],
   "source": [
    "# second phrase\n",
    "outputs = model.exit_inference_forward(**inputs, labels=labels)"
   ]
  },
  {
   "cell_type": "code",
   "execution_count": null,
   "id": "bdeed24f-a8fd-4bb0-9a58-30733cb07c8c",
   "metadata": {},
   "outputs": [],
   "source": [
    "model.stop_layers"
   ]
  },
  {
   "cell_type": "markdown",
   "id": "451464e9-bff7-45cc-a694-dba8023d857c",
   "metadata": {},
   "source": [
    "# Test result of new idea"
   ]
  },
  {
   "cell_type": "code",
   "execution_count": null,
   "id": "e52205fb-33c7-45ed-a6ee-909b11ce5abf",
   "metadata": {},
   "outputs": [],
   "source": [
    "data = [torch.cat((torch.rand((32, 1)), torch.randint(0, 2, (32, 1))), dim = 1) for _ in range(0, 12)]"
   ]
  },
  {
   "cell_type": "code",
   "execution_count": null,
   "id": "bdf8fecd-59bd-4497-b7d5-971fd5b150d2",
   "metadata": {},
   "outputs": [],
   "source": [
    "def accuracy(y_hat, y):\n",
    "    return (y_hat == y).float().mean()"
   ]
  },
  {
   "cell_type": "code",
   "execution_count": null,
   "id": "28ad9b8f-f6b0-438a-82b9-b0a63e785b87",
   "metadata": {},
   "outputs": [],
   "source": [
    "search_space = torch.linspace(np.round(X.min().numpy() - 0.01, 2), np.round(X.max().numpy() + 0.01, 2), 100)"
   ]
  },
  {
   "cell_type": "code",
   "execution_count": null,
   "id": "7106663a-079d-4b0c-bb35-0b0f83f4a674",
   "metadata": {},
   "outputs": [],
   "source": [
    "search_space"
   ]
  },
  {
   "cell_type": "code",
   "execution_count": null,
   "id": "e351a16f-886b-43fd-912b-85578f7983f4",
   "metadata": {
    "tags": []
   },
   "outputs": [],
   "source": [
    "best_acc = 0\n",
    "best_acc_idx = 0\n",
    "for i, threshold in enumerate(search_space):\n",
    "    predict = (X < threshold).long()\n",
    "    if accuracy(predict, y) > best_acc:\n",
    "        best_acc = accuracy(predict, y)\n",
    "        best_acc_idx = i"
   ]
  },
  {
   "cell_type": "code",
   "execution_count": null,
   "id": "893a31cc-2fa6-4118-b141-6a4af24e43cf",
   "metadata": {},
   "outputs": [],
   "source": [
    "best_acc, search_space[best_acc_idx]"
   ]
  },
  {
   "cell_type": "code",
   "execution_count": null,
   "id": "8b507d34-bae9-4510-843c-0af6834cb84e",
   "metadata": {},
   "outputs": [],
   "source": [
    "optimal_point = []\n",
    "fig, axs = plt.subplots(3, 4, figsize=(16, 9))\n",
    "fig.tight_layout()\n",
    "\n",
    "\n",
    "mask = data[i][:, 0] > 0\n",
    "\n",
    "for i in range(0, 12):\n",
    "    X = data[i][:, 0][mask]\n",
    "    y = data[i][:, 1][mask]\n",
    "    \n",
    "    best_threshold = X.min().numpy() - 0.01\n",
    "    search_space = torch.linspace(np.round(X.min().numpy() - 0.01, 2), np.round(X.max().numpy() + 0.01, 2), 100)\n",
    "    for j, threshold in enumerate(search_space):\n",
    "        gain = (X[torch.where(y > 0)[0]] < threshold).long().sum()\n",
    "        error = (X[torch.where(y < 1)[0]] < threshold).long().sum()\n",
    "        if (gain - error)/(gain + error) > 0.9:\n",
    "            best_threshold = threshold\n",
    "    \n",
    "    # thresh_hold = np.floor(X[torch.where(y < 1)[0]].min()*100)/100\n",
    "    \n",
    "    \n",
    "    x_min, x_max = torch.floor(X.min()), torch.ceil(X.max())\n",
    "    y_min, y_max = -3, 3\n",
    "    yy = torch.linspace(y_min, y_max, 3)\n",
    "    \n",
    "    axs[int(i/4), i%4].set_title(f'Layer {i}, threshold: {thresh_hold:.2f}, size: {len(X)}')\n",
    "    axs[int(i/4), i%4].scatter(X[torch.where(y > 0)[0]], torch.zeros_like(X[torch.where(y > 0)[0]]), c=\"red\") # 1\n",
    "    axs[int(i/4), i%4].scatter(X[torch.where(y < 1)[0]], torch.zeros_like(X[torch.where(y < 1)[0]]), c=\"blue\")# 0\n",
    "    axs[int(i/4), i%4].plot(best_threshold*torch.ones_like(yy), yy)\n",
    "    \n",
    "    mask = mask & (data[i][:, 0].masked_fill(~mask, 0.0) > thresh_hold)"
   ]
  }
 ],
 "metadata": {
  "kernelspec": {
   "display_name": "Python 3 (ipykernel)",
   "language": "python",
   "name": "python3"
  },
  "language_info": {
   "codemirror_mode": {
    "name": "ipython",
    "version": 3
   },
   "file_extension": ".py",
   "mimetype": "text/x-python",
   "name": "python",
   "nbconvert_exporter": "python",
   "pygments_lexer": "ipython3",
   "version": "3.8.12"
  }
 },
 "nbformat": 4,
 "nbformat_minor": 5
}
