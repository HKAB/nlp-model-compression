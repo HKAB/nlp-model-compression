{
 "cells": [
  {
   "cell_type": "code",
   "execution_count": 70,
   "id": "eca40d2b-9a54-4e04-9f6a-84bd6279bd95",
   "metadata": {
    "tags": []
   },
   "outputs": [],
   "source": [
    "import argparse\n",
    "import logging\n",
    "import math\n",
    "import os\n",
    "import random\n",
    "\n",
    "import datasets\n",
    "from datasets import load_dataset, load_metric\n",
    "from torch.utils.data.dataloader import DataLoader\n",
    "from tqdm.auto import tqdm\n",
    "\n",
    "import transformers\n",
    "from accelerate import Accelerator\n",
    "from transformers import (\n",
    "    AdamW,\n",
    "    AutoConfig,\n",
    "    AutoModelForSequenceClassification,\n",
    "    AutoTokenizer,\n",
    "    DataCollatorWithPadding,\n",
    "    PretrainedConfig,\n",
    "    SchedulerType,\n",
    "    default_data_collator,\n",
    "    get_scheduler,\n",
    "    set_seed,\n",
    ")\n",
    "from transformers.utils.versions import require_version\n",
    "\n",
    "# My custom model\n",
    "from models import BertForSequenceClassification\n",
    "from models import DeeBertForSequenceClassification\n",
    "from models import BertConfig\n",
    "import torch\n",
    "import matplotlib.pyplot as plt\n",
    "import numpy as np"
   ]
  },
  {
   "cell_type": "markdown",
   "id": "639bbcb6-afa9-47cd-b521-12a65318cad0",
   "metadata": {
    "tags": []
   },
   "source": [
    "# Test my BertForSequenceClassification"
   ]
  },
  {
   "cell_type": "code",
   "execution_count": 3,
   "id": "0a5f4ceb-a543-432e-aa39-38652e90d67a",
   "metadata": {},
   "outputs": [
    {
     "name": "stderr",
     "output_type": "stream",
     "text": [
      "Some weights of the model checkpoint at bert-base-uncased were not used when initializing BertForSequenceClassification: ['cls.predictions.transform.dense.bias', 'cls.seq_relationship.bias', 'cls.predictions.transform.dense.weight', 'cls.predictions.bias', 'cls.predictions.transform.LayerNorm.weight', 'cls.predictions.decoder.weight', 'cls.predictions.transform.LayerNorm.bias', 'cls.seq_relationship.weight']\n",
      "- This IS expected if you are initializing BertForSequenceClassification from the checkpoint of a model trained on another task or with another architecture (e.g. initializing a BertForSequenceClassification model from a BertForPreTraining model).\n",
      "- This IS NOT expected if you are initializing BertForSequenceClassification from the checkpoint of a model that you expect to be exactly identical (initializing a BertForSequenceClassification model from a BertForSequenceClassification model).\n",
      "Some weights of BertForSequenceClassification were not initialized from the model checkpoint at bert-base-uncased and are newly initialized: ['exit_port.9.weight', 'classifiers.0.weight', 'classifiers.4.bias', 'classifiers.9.weight', 'exit_port.8.weight', 'exit_port.2.weight', 'exit_port.0.bias', 'exit_port.2.bias', 'classifiers.1.weight', 'classifiers.4.weight', 'classifiers.6.bias', 'exit_port.5.weight', 'classifiers.1.bias', 'exit_port.1.weight', 'exit_port.8.bias', 'classifiers.8.weight', 'classifiers.2.bias', 'classifiers.5.bias', 'exit_port.4.bias', 'exit_port.9.bias', 'classifiers.7.bias', 'classifiers.11.weight', 'classifiers.10.bias', 'exit_port.4.weight', 'exit_port.6.weight', 'classifiers.10.weight', 'classifiers.7.weight', 'exit_port.11.bias', 'classifiers.8.bias', 'classifiers.0.bias', 'classifiers.3.weight', 'exit_port.5.bias', 'classifiers.2.weight', 'classifiers.9.bias', 'exit_port.1.bias', 'exit_port.10.weight', 'classifiers.11.bias', 'exit_port.7.weight', 'exit_port.3.bias', 'exit_port.7.bias', 'classifiers.3.bias', 'exit_port.3.weight', 'exit_port.11.weight', 'exit_port.10.bias', 'classifiers.5.weight', 'classifiers.6.weight', 'exit_port.0.weight', 'exit_port.6.bias']\n",
      "You should probably TRAIN this model on a down-stream task to be able to use it for predictions and inference.\n"
     ]
    }
   ],
   "source": [
    "tokenizer = AutoTokenizer.from_pretrained(\"bert-base-uncased\")\n",
    "# change model pretrained path here\n",
    "config = BertConfig(exit_port_threshold=0.1, entropy_threshold=0.2)\n",
    "model = BertForSequenceClassification.from_pretrained(\"bert-base-uncased\", config=config)"
   ]
  },
  {
   "cell_type": "code",
   "execution_count": 4,
   "id": "e0ce5303-9cc9-46dd-8b2e-07142aab3d65",
   "metadata": {},
   "outputs": [],
   "source": [
    "inputs = tokenizer([\"LOL\" for _ in range(0, 10)], \n",
    "                   max_length = 128, padding='max_length', truncation=True, return_tensors=\"pt\")\n",
    "labels = torch.tensor([1 for _ in range(0, 10)])"
   ]
  },
  {
   "cell_type": "code",
   "execution_count": 5,
   "id": "2ff39886-6ef8-42ed-83c3-063f1b2da3af",
   "metadata": {},
   "outputs": [
    {
     "data": {
      "text/plain": [
       "(torch.Size([10, 128]), torch.Size([10]))"
      ]
     },
     "execution_count": 5,
     "metadata": {},
     "output_type": "execute_result"
    }
   ],
   "source": [
    "inputs['input_ids'].shape, labels.shape"
   ]
  },
  {
   "cell_type": "code",
   "execution_count": 5,
   "id": "a56c5c87-87e1-4272-9d26-4e9e12564a9a",
   "metadata": {},
   "outputs": [],
   "source": [
    "# first phrase\n",
    "outputs = model(**inputs, labels=labels)"
   ]
  },
  {
   "cell_type": "code",
   "execution_count": 6,
   "id": "ff2196eb-252b-479d-a627-a2e0b8a00dcf",
   "metadata": {},
   "outputs": [],
   "source": [
    "# second phrase\n",
    "with torch.no_grad():\n",
    "    outputs = model.exit_forward(**inputs, labels=labels)"
   ]
  },
  {
   "cell_type": "code",
   "execution_count": 8,
   "id": "595af8d4-44a3-47c6-8f73-a3fde6938ac7",
   "metadata": {},
   "outputs": [
    {
     "data": {
      "text/plain": [
       "[tensor([[0.6437, 0.0000],\n",
       "         [0.6437, 0.0000],\n",
       "         [0.6437, 0.0000],\n",
       "         [0.6437, 0.0000],\n",
       "         [0.6437, 0.0000],\n",
       "         [0.6437, 0.0000],\n",
       "         [0.6437, 0.0000],\n",
       "         [0.6437, 0.0000],\n",
       "         [0.6437, 0.0000],\n",
       "         [0.6437, 0.0000]]),\n",
       " tensor([[0.6882, 1.0000],\n",
       "         [0.6882, 1.0000],\n",
       "         [0.6882, 1.0000],\n",
       "         [0.6882, 1.0000],\n",
       "         [0.6882, 1.0000],\n",
       "         [0.6882, 1.0000],\n",
       "         [0.6882, 1.0000],\n",
       "         [0.6882, 1.0000],\n",
       "         [0.6882, 1.0000],\n",
       "         [0.6882, 1.0000]]),\n",
       " tensor([[0.6827, 1.0000],\n",
       "         [0.6827, 1.0000],\n",
       "         [0.6827, 1.0000],\n",
       "         [0.6827, 1.0000],\n",
       "         [0.6827, 1.0000],\n",
       "         [0.6827, 1.0000],\n",
       "         [0.6827, 1.0000],\n",
       "         [0.6827, 1.0000],\n",
       "         [0.6827, 1.0000],\n",
       "         [0.6827, 1.0000]]),\n",
       " tensor([[0.6676, 0.0000],\n",
       "         [0.6676, 0.0000],\n",
       "         [0.6676, 0.0000],\n",
       "         [0.6676, 0.0000],\n",
       "         [0.6676, 0.0000],\n",
       "         [0.6676, 0.0000],\n",
       "         [0.6676, 0.0000],\n",
       "         [0.6676, 0.0000],\n",
       "         [0.6676, 0.0000],\n",
       "         [0.6676, 0.0000]]),\n",
       " tensor([[0.6884, 1.0000],\n",
       "         [0.6884, 1.0000],\n",
       "         [0.6884, 1.0000],\n",
       "         [0.6884, 1.0000],\n",
       "         [0.6884, 1.0000],\n",
       "         [0.6884, 1.0000],\n",
       "         [0.6884, 1.0000],\n",
       "         [0.6884, 1.0000],\n",
       "         [0.6884, 1.0000],\n",
       "         [0.6884, 1.0000]]),\n",
       " tensor([[0.5887, 0.0000],\n",
       "         [0.5887, 0.0000],\n",
       "         [0.5887, 0.0000],\n",
       "         [0.5887, 0.0000],\n",
       "         [0.5887, 0.0000],\n",
       "         [0.5887, 0.0000],\n",
       "         [0.5887, 0.0000],\n",
       "         [0.5887, 0.0000],\n",
       "         [0.5887, 0.0000],\n",
       "         [0.5887, 0.0000]]),\n",
       " tensor([[0.6904, 0.0000],\n",
       "         [0.6904, 0.0000],\n",
       "         [0.6904, 0.0000],\n",
       "         [0.6904, 0.0000],\n",
       "         [0.6904, 0.0000],\n",
       "         [0.6904, 0.0000],\n",
       "         [0.6904, 0.0000],\n",
       "         [0.6904, 0.0000],\n",
       "         [0.6904, 0.0000],\n",
       "         [0.6904, 0.0000]]),\n",
       " tensor([[0.6783, 0.0000],\n",
       "         [0.6783, 0.0000],\n",
       "         [0.6783, 0.0000],\n",
       "         [0.6783, 0.0000],\n",
       "         [0.6783, 0.0000],\n",
       "         [0.6783, 0.0000],\n",
       "         [0.6783, 0.0000],\n",
       "         [0.6783, 0.0000],\n",
       "         [0.6783, 0.0000],\n",
       "         [0.6783, 0.0000]]),\n",
       " tensor([[0.6919, 0.0000],\n",
       "         [0.6919, 0.0000],\n",
       "         [0.6919, 0.0000],\n",
       "         [0.6919, 0.0000],\n",
       "         [0.6919, 0.0000],\n",
       "         [0.6919, 0.0000],\n",
       "         [0.6919, 0.0000],\n",
       "         [0.6919, 0.0000],\n",
       "         [0.6919, 0.0000],\n",
       "         [0.6919, 0.0000]]),\n",
       " tensor([[0.6498, 0.0000],\n",
       "         [0.6498, 0.0000],\n",
       "         [0.6498, 0.0000],\n",
       "         [0.6498, 0.0000],\n",
       "         [0.6498, 0.0000],\n",
       "         [0.6498, 0.0000],\n",
       "         [0.6498, 0.0000],\n",
       "         [0.6498, 0.0000],\n",
       "         [0.6498, 0.0000],\n",
       "         [0.6498, 0.0000]]),\n",
       " tensor([[0.6931, 1.0000],\n",
       "         [0.6931, 1.0000],\n",
       "         [0.6931, 1.0000],\n",
       "         [0.6931, 1.0000],\n",
       "         [0.6931, 1.0000],\n",
       "         [0.6931, 1.0000],\n",
       "         [0.6931, 1.0000],\n",
       "         [0.6931, 1.0000],\n",
       "         [0.6931, 1.0000],\n",
       "         [0.6931, 1.0000]]),\n",
       " tensor([[0.6873, 1.0000],\n",
       "         [0.6873, 1.0000],\n",
       "         [0.6873, 1.0000],\n",
       "         [0.6873, 1.0000],\n",
       "         [0.6873, 1.0000],\n",
       "         [0.6873, 1.0000],\n",
       "         [0.6873, 1.0000],\n",
       "         [0.6873, 1.0000],\n",
       "         [0.6873, 1.0000],\n",
       "         [0.6873, 1.0000]])]"
      ]
     },
     "execution_count": 8,
     "metadata": {},
     "output_type": "execute_result"
    }
   ],
   "source": [
    "model.entropy_label"
   ]
  },
  {
   "cell_type": "code",
   "execution_count": null,
   "id": "2ae60a1d-0451-45bd-82e9-b3cc3e732daa",
   "metadata": {},
   "outputs": [],
   "source": [
    "model.eval()"
   ]
  },
  {
   "cell_type": "code",
   "execution_count": null,
   "id": "a2306971-b0fe-41ba-b1e4-c63bf05e5ebf",
   "metadata": {},
   "outputs": [],
   "source": [
    "inputs = tokenizer([\"Hello, my dog is cute and I am the biggest person in the world Yo yo\"], \n",
    "                   max_length = 128, padding='max_length', truncation=True, return_tensors=\"pt\")\n",
    "labels = torch.tensor([1]).unsqueeze(0)"
   ]
  },
  {
   "cell_type": "code",
   "execution_count": null,
   "id": "ed676c69-743b-4c07-887d-b2a59f946ac5",
   "metadata": {},
   "outputs": [],
   "source": [
    "outputs = model.exit_inference_forward(**inputs)"
   ]
  },
  {
   "cell_type": "code",
   "execution_count": null,
   "id": "bca89e24-f9ed-4017-a138-ff680d36d29f",
   "metadata": {},
   "outputs": [],
   "source": [
    "model.stop_layers"
   ]
  },
  {
   "cell_type": "code",
   "execution_count": null,
   "id": "6947ab01-c354-4424-b21b-f0db5deb3428",
   "metadata": {},
   "outputs": [],
   "source": [
    "outputs.logits"
   ]
  },
  {
   "cell_type": "markdown",
   "id": "2bb56250-2827-4aa4-b205-a3dca3cdbc5f",
   "metadata": {},
   "source": [
    "# Test DeeBert"
   ]
  },
  {
   "cell_type": "code",
   "execution_count": null,
   "id": "a0e5e2de-256f-48f1-b975-7e49c8d6b334",
   "metadata": {},
   "outputs": [],
   "source": [
    "tokenizer = AutoTokenizer.from_pretrained(\"bert-base-uncased\")\n",
    "# change model pretrained path here\n",
    "config = BertConfig(entropy_threshold=0.5)\n",
    "model = DeeBertForSequenceClassification.from_pretrained(\"bert-base-uncased\", config=config)"
   ]
  },
  {
   "cell_type": "code",
   "execution_count": null,
   "id": "c9333b48-cf37-450d-9219-effdd11ae875",
   "metadata": {},
   "outputs": [],
   "source": [
    "inputs = tokenizer([\"Hello, my dog is cute and I am the biggest person in the world haha, Excuse me\"], \n",
    "                   max_length = 128, padding='max_length', truncation=True, return_tensors=\"pt\")\n",
    "labels = torch.tensor([0]).unsqueeze(0)"
   ]
  },
  {
   "cell_type": "code",
   "execution_count": null,
   "id": "eedee9bf-73db-4db3-940d-17d25dd6f2fb",
   "metadata": {},
   "outputs": [],
   "source": [
    "# first phrase\n",
    "outputs = model(**inputs, labels=labels)"
   ]
  },
  {
   "cell_type": "code",
   "execution_count": null,
   "id": "eefe2e60-8452-4ec9-808d-6d54b5333199",
   "metadata": {},
   "outputs": [],
   "source": [
    "# second phrase\n",
    "outputs = model.exit_inference_forward(**inputs, labels=labels)"
   ]
  },
  {
   "cell_type": "code",
   "execution_count": null,
   "id": "bdeed24f-a8fd-4bb0-9a58-30733cb07c8c",
   "metadata": {},
   "outputs": [],
   "source": [
    "model.stop_layers"
   ]
  },
  {
   "cell_type": "markdown",
   "id": "451464e9-bff7-45cc-a694-dba8023d857c",
   "metadata": {},
   "source": [
    "# Test result of new idea"
   ]
  },
  {
   "cell_type": "code",
   "execution_count": 99,
   "id": "e52205fb-33c7-45ed-a6ee-909b11ce5abf",
   "metadata": {},
   "outputs": [],
   "source": [
    "data = [torch.cat((torch.rand((32, 1)), torch.randint(0, 2, (32, 1))), dim = 1) for _ in range(0, 12)]"
   ]
  },
  {
   "cell_type": "code",
   "execution_count": 84,
   "id": "684a830d-4bc6-43cb-b1cd-b066c894ff24",
   "metadata": {},
   "outputs": [],
   "source": [
    "X = data[0][:, 0]\n",
    "y = data[0][:, 1]"
   ]
  },
  {
   "cell_type": "code",
   "execution_count": 85,
   "id": "fd756db9-2716-4e88-9024-8cdd96a3b4c7",
   "metadata": {},
   "outputs": [],
   "source": [
    "X, indices = torch.sort(X)\n",
    "y = y[indices]"
   ]
  },
  {
   "cell_type": "code",
   "execution_count": 86,
   "id": "1d2cd4bd-2d22-4aea-a10d-a4172d3412fa",
   "metadata": {},
   "outputs": [
    {
     "data": {
      "text/plain": [
       "(tensor([0.0147, 0.0502, 0.0907, 0.0965, 0.1597, 0.1627, 0.1674, 0.1994, 0.2198,\n",
       "         0.2549, 0.2670, 0.2981, 0.3281, 0.3408, 0.3423, 0.3579, 0.4372, 0.4452,\n",
       "         0.5328, 0.5667, 0.6339, 0.6640, 0.6647, 0.6970, 0.7098, 0.7782, 0.8106,\n",
       "         0.8191, 0.8414, 0.8571, 0.9524, 0.9696]),\n",
       " tensor([0., 0., 1., 0., 1., 1., 1., 1., 0., 1., 1., 1., 0., 0., 1., 1., 1., 0.,\n",
       "         1., 1., 1., 0., 1., 0., 0., 0., 1., 0., 1., 1., 0., 0.]))"
      ]
     },
     "execution_count": 86,
     "metadata": {},
     "output_type": "execute_result"
    }
   ],
   "source": [
    "X, y"
   ]
  },
  {
   "cell_type": "code",
   "execution_count": 87,
   "id": "bdf8fecd-59bd-4497-b7d5-971fd5b150d2",
   "metadata": {},
   "outputs": [],
   "source": [
    "def accuracy(y_hat, y):\n",
    "    return (y_hat == y).float().mean()"
   ]
  },
  {
   "cell_type": "code",
   "execution_count": 88,
   "id": "28ad9b8f-f6b0-438a-82b9-b0a63e785b87",
   "metadata": {},
   "outputs": [],
   "source": [
    "search_space = torch.linspace(np.round(X.min().numpy() - 0.01, 2), np.round(X.max().numpy() + 0.01, 2), 100)"
   ]
  },
  {
   "cell_type": "code",
   "execution_count": 89,
   "id": "7106663a-079d-4b0c-bb35-0b0f83f4a674",
   "metadata": {},
   "outputs": [
    {
     "data": {
      "text/plain": [
       "tensor([0.0000, 0.0099, 0.0198, 0.0297, 0.0396, 0.0495, 0.0594, 0.0693, 0.0792,\n",
       "        0.0891, 0.0990, 0.1089, 0.1188, 0.1287, 0.1386, 0.1485, 0.1584, 0.1683,\n",
       "        0.1782, 0.1881, 0.1980, 0.2079, 0.2178, 0.2277, 0.2376, 0.2475, 0.2574,\n",
       "        0.2673, 0.2772, 0.2871, 0.2970, 0.3069, 0.3168, 0.3267, 0.3366, 0.3465,\n",
       "        0.3564, 0.3663, 0.3762, 0.3861, 0.3960, 0.4059, 0.4158, 0.4257, 0.4356,\n",
       "        0.4455, 0.4554, 0.4653, 0.4752, 0.4851, 0.4949, 0.5048, 0.5147, 0.5246,\n",
       "        0.5345, 0.5444, 0.5543, 0.5642, 0.5741, 0.5840, 0.5939, 0.6038, 0.6137,\n",
       "        0.6236, 0.6335, 0.6434, 0.6533, 0.6632, 0.6731, 0.6830, 0.6929, 0.7028,\n",
       "        0.7127, 0.7226, 0.7325, 0.7424, 0.7523, 0.7622, 0.7721, 0.7820, 0.7919,\n",
       "        0.8018, 0.8117, 0.8216, 0.8315, 0.8414, 0.8513, 0.8612, 0.8711, 0.8810,\n",
       "        0.8909, 0.9008, 0.9107, 0.9206, 0.9305, 0.9404, 0.9503, 0.9602, 0.9701,\n",
       "        0.9800])"
      ]
     },
     "execution_count": 89,
     "metadata": {},
     "output_type": "execute_result"
    }
   ],
   "source": [
    "search_space"
   ]
  },
  {
   "cell_type": "code",
   "execution_count": 78,
   "id": "e351a16f-886b-43fd-912b-85578f7983f4",
   "metadata": {
    "tags": []
   },
   "outputs": [],
   "source": [
    "best_acc = 0\n",
    "best_acc_idx = 0\n",
    "for i, threshold in enumerate(search_space):\n",
    "    predict = (X < threshold).long()\n",
    "    if accuracy(predict, y) > best_acc:\n",
    "        best_acc = accuracy(predict, y)\n",
    "        best_acc_idx = i"
   ]
  },
  {
   "cell_type": "code",
   "execution_count": 80,
   "id": "893a31cc-2fa6-4118-b141-6a4af24e43cf",
   "metadata": {},
   "outputs": [
    {
     "data": {
      "text/plain": [
       "(tensor(0.6875), tensor(0.7200))"
      ]
     },
     "execution_count": 80,
     "metadata": {},
     "output_type": "execute_result"
    }
   ],
   "source": [
    "best_acc, search_space[best_acc_idx]"
   ]
  },
  {
   "cell_type": "code",
   "execution_count": 90,
   "id": "cdd09457-ecf0-4a92-9dbb-317525bbf5b5",
   "metadata": {},
   "outputs": [
    {
     "data": {
      "text/plain": [
       "<Figure size 432x288 with 0 Axes>"
      ]
     },
     "metadata": {},
     "output_type": "display_data"
    }
   ],
   "source": [
    "plt.figure()\n",
    "x_min, x_max = torch.floor(X.min()), torch.ceil(X.max())\n",
    "y_min, y_max = -3, 3\n",
    "yy = torch.linspace(y_min, y_max, 3)"
   ]
  },
  {
   "cell_type": "code",
   "execution_count": 97,
   "id": "979e11b7-799a-4104-be98-09492a060cfc",
   "metadata": {},
   "outputs": [
    {
     "data": {
      "text/plain": [
       "[<matplotlib.lines.Line2D at 0x7fe06d5de370>]"
      ]
     },
     "execution_count": 97,
     "metadata": {},
     "output_type": "execute_result"
    },
    {
     "data": {
      "image/png": "[encoded data removed]",
      "text/plain": [
       "<Figure size 432x288 with 1 Axes>"
      ]
     },
     "metadata": {
      "needs_background": "light"
     },
     "output_type": "display_data"
    }
   ],
   "source": [
    "plt.scatter(X[torch.where(y > 0)[0]], torch.zeros_like(X[torch.where(y > 0)[0]]), c=\"blue\")\n",
    "plt.scatter(X[torch.where(y < 1)[0]], torch.zeros_like(X[torch.where(y < 1)[0]]), c=\"red\")\n",
    "plt.plot(search_space[best_acc_idx]*torch.ones_like(yy), yy)"
   ]
  },
  {
   "cell_type": "code",
   "execution_count": 107,
   "id": "8b507d34-bae9-4510-843c-0af6834cb84e",
   "metadata": {},
   "outputs": [
    {
     "data": {
      "image/png": "[encoded data removed]",
      "text/plain": [
       "<Figure size 1152x648 with 12 Axes>"
      ]
     },
     "metadata": {
      "needs_background": "light"
     },
     "output_type": "display_data"
    }
   ],
   "source": [
    "optimal_point = []\n",
    "fig, axs = plt.subplots(3, 4, figsize=(16, 9))\n",
    "fig.tight_layout()\n",
    "for i in range(0, 12):\n",
    "    X = data[i][:, 0]\n",
    "    y = data[i][:, 1]\n",
    "    \n",
    "    search_space = torch.linspace(np.round(X.min().numpy() - 0.01, 2), np.round(X.max().numpy() + 0.01, 2), 100)\n",
    "    best_acc = 0\n",
    "    best_acc_idx = 0\n",
    "    for j, threshold in enumerate(search_space):\n",
    "        predict = (X < threshold).long()\n",
    "        if accuracy(predict, y) > best_acc:\n",
    "            best_acc = accuracy(predict, y)\n",
    "            best_acc_idx = j\n",
    "    \n",
    "    x_min, x_max = torch.floor(X.min()), torch.ceil(X.max())\n",
    "    y_min, y_max = -3, 3\n",
    "    yy = torch.linspace(y_min, y_max, 3)\n",
    "    \n",
    "    axs[int(i/4), i%4].set_title(f'Layer {i}')\n",
    "    axs[int(i/4), i%4].scatter(X[torch.where(y > 0)[0]], torch.zeros_like(X[torch.where(y > 0)[0]]), c=\"red\")\n",
    "    axs[int(i/4), i%4].scatter(X[torch.where(y < 1)[0]], torch.zeros_like(X[torch.where(y < 1)[0]]), c=\"blue\")\n",
    "    axs[int(i/4), i%4].plot(search_space[best_acc_idx]*torch.ones_like(yy), yy)"
   ]
  }
 ],
 "metadata": {
  "kernelspec": {
   "display_name": "Python 3 (ipykernel)",
   "language": "python",
   "name": "python3"
  },
  "language_info": {
   "codemirror_mode": {
    "name": "ipython",
    "version": 3
   },
   "file_extension": ".py",
   "mimetype": "text/x-python",
   "name": "python",
   "nbconvert_exporter": "python",
   "pygments_lexer": "ipython3",
   "version": "3.8.12"
  }
 },
 "nbformat": 4,
 "nbformat_minor": 5
}
