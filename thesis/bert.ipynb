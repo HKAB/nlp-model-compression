{
 "cells": [
  {
   "cell_type": "code",
   "execution_count": 1,
   "id": "38b9244a-62aa-44ae-afe8-c663d0dd592a",
   "metadata": {},
   "outputs": [],
   "source": [
    "from models import BertForSequenceClassification\n",
    "from models import BertConfig\n",
    "from transformers import AutoTokenizer\n",
    "import torch\n",
    "import transformers\n",
    "import re"
   ]
  },
  {
   "cell_type": "code",
   "execution_count": 2,
   "id": "a7b2620b-de07-4e1b-a419-76cff9606f0c",
   "metadata": {},
   "outputs": [],
   "source": [
    "import matplotlib.pyplot as plt"
   ]
  },
  {
   "cell_type": "code",
   "execution_count": 3,
   "id": "e50f3fa8-4523-4c4e-a886-361db3dedd3f",
   "metadata": {},
   "outputs": [],
   "source": [
    "tokenizer = AutoTokenizer.from_pretrained(\"bert-base-uncased\")"
   ]
  },
  {
   "cell_type": "code",
   "execution_count": 4,
   "id": "8791349b-483e-4d21-8158-2ec26237763d",
   "metadata": {},
   "outputs": [
    {
     "name": "stderr",
     "output_type": "stream",
     "text": [
      "Some weights of the model checkpoint at bert-base-uncased were not used when initializing BertForSequenceClassification: ['cls.predictions.decoder.weight', 'cls.predictions.bias', 'cls.predictions.transform.LayerNorm.bias', 'cls.predictions.transform.dense.bias', 'cls.predictions.transform.LayerNorm.weight', 'cls.predictions.transform.dense.weight', 'cls.seq_relationship.weight', 'cls.seq_relationship.bias']\n",
      "- This IS expected if you are initializing BertForSequenceClassification from the checkpoint of a model trained on another task or with another architecture (e.g. initializing a BertForSequenceClassification model from a BertForPreTraining model).\n",
      "- This IS NOT expected if you are initializing BertForSequenceClassification from the checkpoint of a model that you expect to be exactly identical (initializing a BertForSequenceClassification model from a BertForSequenceClassification model).\n",
      "Some weights of BertForSequenceClassification were not initialized from the model checkpoint at bert-base-uncased and are newly initialized: ['classifier.bias', 'bert.W_layers_attention.weight', 'bert.W_layers_attention.bias', 'classifier.weight']\n",
      "You should probably TRAIN this model on a down-stream task to be able to use it for predictions and inference.\n"
     ]
    }
   ],
   "source": [
    "model = BertForSequenceClassification.from_pretrained(\"bert-base-uncased\")"
   ]
  },
  {
   "cell_type": "code",
   "execution_count": 5,
   "id": "9a576e0e-d580-4fd6-a030-fb24fc5e87ff",
   "metadata": {},
   "outputs": [],
   "source": [
    "inputs = tokenizer(\"Hello, my dog is cute\", \n",
    "                   max_length = 128, padding='max_length', truncation=True, return_tensors=\"pt\")\n",
    "labels = torch.tensor([1]).unsqueeze(0)  # Batch size 1"
   ]
  },
  {
   "cell_type": "code",
   "execution_count": 6,
   "id": "f35119dd-b3dd-4a46-9cec-60e064e9dbf1",
   "metadata": {},
   "outputs": [],
   "source": [
    "outputs = model(**inputs, labels=labels)"
   ]
  },
  {
   "cell_type": "code",
   "execution_count": 7,
   "id": "2db45fa0-b22f-4785-ab4a-0327a6a68db0",
   "metadata": {},
   "outputs": [
    {
     "data": {
      "text/plain": [
       "tensor([[5.0268e-01, 2.3413e-02, 1.3848e-02, 7.9476e-03, 4.4138e-03, 2.8815e-01,\n",
       "         3.5712e-04, 2.9806e-02, 3.7242e-03, 2.5821e-03, 4.4438e-02, 7.8647e-02]],\n",
       "       grad_fn=<SoftmaxBackward>)"
      ]
     },
     "execution_count": 7,
     "metadata": {},
     "output_type": "execute_result"
    }
   ],
   "source": [
    "model.bert.layers_attention"
   ]
  },
  {
   "cell_type": "code",
   "execution_count": 8,
   "id": "60ece77a-8327-4eb4-aa02-24f1f3165ced",
   "metadata": {},
   "outputs": [
    {
     "data": {
      "text/plain": [
       "array([5.0267535e-01, 2.3413287e-02, 1.3847613e-02, 7.9475688e-03,\n",
       "       4.4138380e-03, 2.8814757e-01, 3.5712079e-04, 2.9806048e-02,\n",
       "       3.7242009e-03, 2.5820869e-03, 4.4438474e-02, 7.8646764e-02],\n",
       "      dtype=float32)"
      ]
     },
     "execution_count": 8,
     "metadata": {},
     "output_type": "execute_result"
    }
   ],
   "source": [
    "model.bert.layers_attention.detach().numpy().flatten()"
   ]
  },
  {
   "cell_type": "code",
   "execution_count": 9,
   "id": "b6f63116-9adf-4ad3-9771-873fb3b62ef1",
   "metadata": {},
   "outputs": [
    {
     "data": {
      "text/plain": [
       "<BarContainer object of 12 artists>"
      ]
     },
     "execution_count": 9,
     "metadata": {},
     "output_type": "execute_result"
    },
    {
     "data": {
      "image/png": "[encoded data removed]",
      "text/plain": [
       "<Figure size 432x288 with 1 Axes>"
      ]
     },
     "metadata": {
      "needs_background": "light"
     },
     "output_type": "display_data"
    }
   ],
   "source": [
    "plt.bar(range(0, 12), model.bert.layers_attention.detach().numpy().flatten())"
   ]
  }
 ],
 "metadata": {
  "kernelspec": {
   "display_name": "Python 3 (ipykernel)",
   "language": "python",
   "name": "python3"
  },
  "language_info": {
   "codemirror_mode": {
    "name": "ipython",
    "version": 3
   },
   "file_extension": ".py",
   "mimetype": "text/x-python",
   "name": "python",
   "nbconvert_exporter": "python",
   "pygments_lexer": "ipython3",
   "version": "3.8.12"
  }
 },
 "nbformat": 4,
 "nbformat_minor": 5
}
