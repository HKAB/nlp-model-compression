{
 "cells": [
  {
   "cell_type": "code",
   "execution_count": 26,
   "id": "f1ae46ee-61fe-446a-9fc7-d2d8fa5cd36c",
   "metadata": {},
   "outputs": [],
   "source": [
    "import torch\n",
    "from models.modeling_masked_roberta import MaskedRobertaForTokenClassification\n",
    "from models.configuration_roberta import MaskedRobertaConfigForTokenClassification\n",
    "import matplotlib.pyplot as plt"
   ]
  },
  {
   "cell_type": "code",
   "execution_count": 27,
   "id": "36d39d29-a258-4cbf-a646-46b23b92187f",
   "metadata": {},
   "outputs": [],
   "source": [
    "from models.modules import MaskedLinear"
   ]
  },
  {
   "cell_type": "code",
   "execution_count": 8,
   "id": "8158f79d-bcc6-4c92-ad07-7a2f1b31f4d5",
   "metadata": {},
   "outputs": [
    {
     "name": "stderr",
     "output_type": "stream",
     "text": [
      "You are using a model of type roberta to instantiate a model of type masked_roberta. This is not supported for all configurations of models and can yield errors.\n",
      "Some weights of the model checkpoint at vinai/phobert-base were not used when initializing MaskedRobertaForTokenClassification: ['lm_head.decoder.weight', 'lm_head.bias', 'lm_head.layer_norm.weight', 'lm_head.dense.bias', 'lm_head.layer_norm.bias', 'lm_head.decoder.bias', 'lm_head.dense.weight']\n",
      "- This IS expected if you are initializing MaskedRobertaForTokenClassification from the checkpoint of a model trained on another task or with another architecture (e.g. initializing a BertForSequenceClassification model from a BertForPreTraining model).\n",
      "- This IS NOT expected if you are initializing MaskedRobertaForTokenClassification from the checkpoint of a model that you expect to be exactly identical (initializing a BertForSequenceClassification model from a BertForSequenceClassification model).\n",
      "Some weights of MaskedRobertaForTokenClassification were not initialized from the model checkpoint at vinai/phobert-base and are newly initialized: ['roberta.encoder.layer.3.attention.self.value.mask_scores', 'roberta.encoder.layer.11.attention.self.value.mask_scores', 'roberta.encoder.layer.1.attention.self.value.mask_scores', 'roberta.encoder.layer.2.attention.self.query.mask_scores', 'roberta.encoder.layer.3.attention.output.dense.mask_scores', 'roberta.encoder.layer.8.intermediate.dense.mask_scores', 'roberta.encoder.layer.4.output.dense.mask_scores', 'roberta.encoder.layer.11.output.dense.mask_scores', 'roberta.encoder.layer.1.attention.self.key.mask_scores', 'roberta.encoder.layer.8.attention.self.query.mask_scores', 'roberta.encoder.layer.11.intermediate.dense.mask_scores', 'roberta.encoder.layer.1.attention.self.query.mask_scores', 'roberta.encoder.layer.0.attention.self.key.mask_scores', 'classifier.weight', 'roberta.encoder.layer.4.attention.self.query.mask_scores', 'roberta.encoder.layer.1.intermediate.dense.mask_scores', 'roberta.encoder.layer.7.attention.self.query.mask_scores', 'roberta.encoder.layer.4.attention.self.value.mask_scores', 'roberta.encoder.layer.11.attention.output.dense.mask_scores', 'roberta.encoder.layer.8.attention.output.dense.mask_scores', 'roberta.encoder.layer.2.output.dense.mask_scores', 'roberta.encoder.layer.5.intermediate.dense.mask_scores', 'roberta.encoder.layer.11.attention.self.query.mask_scores', 'roberta.encoder.layer.5.attention.output.dense.mask_scores', 'roberta.encoder.layer.10.attention.self.value.mask_scores', 'roberta.encoder.layer.6.attention.output.dense.mask_scores', 'roberta.encoder.layer.6.attention.self.query.mask_scores', 'roberta.encoder.layer.7.intermediate.dense.mask_scores', 'classifier.bias', 'roberta.encoder.layer.3.attention.self.key.mask_scores', 'roberta.encoder.layer.11.attention.self.key.mask_scores', 'roberta.encoder.layer.10.intermediate.dense.mask_scores', 'roberta.encoder.layer.4.attention.output.dense.mask_scores', 'roberta.encoder.layer.2.attention.self.value.mask_scores', 'roberta.encoder.layer.5.attention.self.query.mask_scores', 'roberta.encoder.layer.10.attention.self.key.mask_scores', 'roberta.encoder.layer.3.attention.self.query.mask_scores', 'roberta.encoder.layer.7.output.dense.mask_scores', 'roberta.encoder.layer.4.attention.self.key.mask_scores', 'roberta.encoder.layer.2.intermediate.dense.mask_scores', 'roberta.encoder.layer.1.output.dense.mask_scores', 'roberta.encoder.layer.8.attention.self.key.mask_scores', 'roberta.encoder.layer.9.attention.self.value.mask_scores', 'roberta.encoder.layer.9.output.dense.mask_scores', 'roberta.encoder.layer.9.intermediate.dense.mask_scores', 'roberta.encoder.layer.8.output.dense.mask_scores', 'roberta.encoder.layer.2.attention.self.key.mask_scores', 'roberta.encoder.layer.7.attention.self.value.mask_scores', 'roberta.encoder.layer.7.attention.self.key.mask_scores', 'roberta.encoder.layer.0.attention.self.query.mask_scores', 'roberta.encoder.layer.1.attention.output.dense.mask_scores', 'roberta.encoder.layer.10.output.dense.mask_scores', 'roberta.encoder.layer.8.attention.self.value.mask_scores', 'roberta.encoder.layer.0.attention.output.dense.mask_scores', 'roberta.encoder.layer.6.intermediate.dense.mask_scores', 'roberta.encoder.layer.5.output.dense.mask_scores', 'roberta.encoder.layer.6.output.dense.mask_scores', 'roberta.encoder.layer.5.attention.self.value.mask_scores', 'roberta.encoder.layer.3.output.dense.mask_scores', 'roberta.encoder.layer.9.attention.self.query.mask_scores', 'roberta.encoder.layer.9.attention.self.key.mask_scores', 'roberta.encoder.layer.10.attention.self.query.mask_scores', 'roberta.encoder.layer.6.attention.self.value.mask_scores', 'roberta.encoder.layer.3.intermediate.dense.mask_scores', 'roberta.encoder.layer.10.attention.output.dense.mask_scores', 'roberta.encoder.layer.0.output.dense.mask_scores', 'roberta.encoder.layer.4.intermediate.dense.mask_scores', 'roberta.encoder.layer.9.attention.output.dense.mask_scores', 'roberta.encoder.layer.5.attention.self.key.mask_scores', 'roberta.encoder.layer.0.attention.self.value.mask_scores', 'roberta.encoder.layer.2.attention.output.dense.mask_scores', 'roberta.encoder.layer.7.attention.output.dense.mask_scores', 'roberta.encoder.layer.0.intermediate.dense.mask_scores', 'roberta.encoder.layer.6.attention.self.key.mask_scores']\n",
      "You should probably TRAIN this model on a down-stream task to be able to use it for predictions and inference.\n"
     ]
    }
   ],
   "source": [
    "num_classes = 32\n",
    "config = MaskedRobertaConfigForTokenClassification.from_pretrained(\n",
    "        \"vinai/phobert-base\",\n",
    "        pruning_method=\"topK\",\n",
    "        mask_init=\"constant\",\n",
    "        mask_scale=0.0,\n",
    "        classifier_dropout=0.0,\n",
    "        num_labels=num_classes\n",
    "    )\n",
    "\n",
    "model = MaskedRobertaForTokenClassification.from_pretrained(\n",
    "        \"vinai/phobert-base\",\n",
    "        config=config,\n",
    "    )"
   ]
  },
  {
   "cell_type": "code",
   "execution_count": 9,
   "id": "de682f1a-5627-4103-ae62-60a092bda99b",
   "metadata": {},
   "outputs": [
    {
     "data": {
      "text/plain": [
       "<All keys matched successfully>"
      ]
     },
     "execution_count": 9,
     "metadata": {},
     "output_type": "execute_result"
    }
   ],
   "source": [
    "model.load_state_dict(torch.load('results/checkpoint.pt'))"
   ]
  },
  {
   "cell_type": "code",
   "execution_count": 21,
   "id": "3fd71830-24d0-4115-92d0-6be3d33a28af",
   "metadata": {},
   "outputs": [
    {
     "name": "stdout",
     "output_type": "stream",
     "text": [
      "Parameter containing:\n",
      "tensor([[ 0.0472, -0.0314,  0.0343,  ...,  0.0144, -0.0032, -0.0680],\n",
      "        [ 0.0186, -0.0044,  0.0190,  ...,  0.0169, -0.0055, -0.0302],\n",
      "        [-0.0074, -0.0078, -0.0142,  ...,  0.0177, -0.0011,  0.0023],\n",
      "        ...,\n",
      "        [ 0.0374, -0.0152,  0.0123,  ...,  0.0210, -0.0214, -0.0185],\n",
      "        [ 0.0266,  0.0122, -0.0232,  ...,  0.0253,  0.0002, -0.0303],\n",
      "        [ 0.0106, -0.0063, -0.0064,  ...,  0.0092, -0.0129, -0.0153]],\n",
      "       requires_grad=True)\n"
     ]
    }
   ],
   "source": [
    "for name, weight in model.named_parameters():\n",
    "    print(weight)\n",
    "    break\n",
    "#     if \"mask_scores\" in name:\n",
    "#         print('{} sparsity: {}'.format(name, torch.sum(weight == 0).item()/(weight.nelement()*100)))"
   ]
  },
  {
   "cell_type": "code",
   "execution_count": null,
   "id": "856f5baf-4a22-4707-a6b0-e075bbea8817",
   "metadata": {},
   "outputs": [],
   "source": [
    "for name, weight in model.named_parameters():\n",
    "    print(weight)\n",
    "    break\n",
    "#     if \"mask_scores\" in name:\n",
    "#         print('{} sparsity: {}'.format(name, torch.sum(weight == 0).item()/(weight.nelement()*100)))"
   ]
  }
 ],
 "metadata": {
  "kernelspec": {
   "display_name": "Python 3 (ipykernel)",
   "language": "python",
   "name": "python3"
  },
  "language_info": {
   "codemirror_mode": {
    "name": "ipython",
    "version": 3
   },
   "file_extension": ".py",
   "mimetype": "text/x-python",
   "name": "python",
   "nbconvert_exporter": "python",
   "pygments_lexer": "ipython3",
   "version": "3.9.6"
  }
 },
 "nbformat": 4,
 "nbformat_minor": 5
}
