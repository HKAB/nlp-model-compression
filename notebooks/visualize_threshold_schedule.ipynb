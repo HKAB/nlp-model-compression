{
 "cells": [
  {
   "cell_type": "code",
   "execution_count": 1,
   "id": "7a848231-ec70-49de-b241-4e089a2f1749",
   "metadata": {},
   "outputs": [],
   "source": [
    "import matplotlib.pyplot as plt\n",
    "import torch.nn as nn"
   ]
  },
  {
   "cell_type": "code",
   "execution_count": 2,
   "id": "5fd5d7d9-7caa-4005-9717-5bb07ad4c950",
   "metadata": {},
   "outputs": [],
   "source": [
    "def schedule_threshold(\n",
    "    step: int,\n",
    "    total_step: int,\n",
    "    warmup_steps: int,\n",
    "    initial_threshold: float,\n",
    "    final_threshold: float,\n",
    "    initial_warmup: int,\n",
    "    final_warmup: int,\n",
    "    final_lambda: float,\n",
    "):\n",
    "    if step <= initial_warmup * warmup_steps:\n",
    "        threshold = initial_threshold\n",
    "    elif step > (total_step - final_warmup * warmup_steps):\n",
    "        threshold = final_threshold\n",
    "    else:\n",
    "        spars_warmup_steps = initial_warmup * warmup_steps\n",
    "        spars_schedu_steps = (final_warmup + initial_warmup) * warmup_steps\n",
    "        mul_coeff = 1 - (step - spars_warmup_steps) / (total_step - spars_schedu_steps)\n",
    "        threshold = final_threshold + (initial_threshold - final_threshold) * (mul_coeff ** 3)\n",
    "    regu_lambda = final_lambda * threshold / final_threshold\n",
    "    return threshold, regu_lambda"
   ]
  },
  {
   "cell_type": "code",
   "execution_count": 5,
   "id": "ebb962b5-6c32-4e5c-a775-0562072fc8f5",
   "metadata": {},
   "outputs": [],
   "source": [
    "thresholds = []\n",
    "for i in range(1, 1495):\n",
    "    threshold, regu_lambda = schedule_threshold(i, 1495, 200, 1.0, 0.15, 1, 2, 1)\n",
    "    thresholds.append(threshold)"
   ]
  },
  {
   "cell_type": "code",
   "execution_count": 6,
   "id": "b8c64c5e-3194-4aed-b96f-44b840e93384",
   "metadata": {},
   "outputs": [
    {
     "data": {
      "text/plain": [
       "[<matplotlib.lines.Line2D at 0x7f6d4b696910>]"
      ]
     },
     "execution_count": 6,
     "metadata": {},
     "output_type": "execute_result"
    },
    {
     "data": {
      "image/png": "[encoded data removed]",
      "text/plain": [
       "<Figure size 432x288 with 1 Axes>"
      ]
     },
     "metadata": {
      "needs_background": "light"
     },
     "output_type": "display_data"
    }
   ],
   "source": [
    "plt.plot(range(0, 1494), thresholds)"
   ]
  }
 ],
 "metadata": {
  "kernelspec": {
   "display_name": "Python 3 (ipykernel)",
   "language": "python",
   "name": "python3"
  },
  "language_info": {
   "codemirror_mode": {
    "name": "ipython",
    "version": 3
   },
   "file_extension": ".py",
   "mimetype": "text/x-python",
   "name": "python",
   "nbconvert_exporter": "python",
   "pygments_lexer": "ipython3",
   "version": "3.9.6"
  }
 },
 "nbformat": 4,
 "nbformat_minor": 5
}
