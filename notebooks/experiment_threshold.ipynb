{
 "cells": [
  {
   "cell_type": "code",
   "execution_count": 13,
   "id": "b43de2ed",
   "metadata": {},
   "outputs": [],
   "source": [
    "import torch\n",
    "import torch.nn as nn\n",
    "from utils import EarlyStopping, TokenClassificationDataset\n",
    "import io\n",
    "import os.path\n",
    "import os\n",
    "from models.modeling_masked_roberta import MaskedRobertaForTokenClassification\n",
    "from models.configuration_roberta import MaskedRobertaConfigForTokenClassification"
   ]
  },
  {
   "cell_type": "code",
   "execution_count": 5,
   "id": "5d581ded",
   "metadata": {},
   "outputs": [],
   "source": [
    "device = torch.device('cuda' if torch.cuda.is_available() else 'cpu')"
   ]
  },
  {
   "cell_type": "code",
   "execution_count": 4,
   "id": "8da8b4f8",
   "metadata": {},
   "outputs": [
    {
     "name": "stdout",
     "output_type": "stream",
     "text": [
      "Load POS data sucessfully!\n"
     ]
    }
   ],
   "source": [
    "target_list = POS_TARGET\n",
    "with io.open(POS_PATH_TEST, encoding='utf-8') as f:\n",
    "    test_task = f.read()\n",
    "test_task = test_task.split('\\n\\n')\n",
    "print('Load POS data sucessfully!')"
   ]
  },
  {
   "cell_type": "code",
   "execution_count": 6,
   "id": "76341169",
   "metadata": {},
   "outputs": [
    {
     "name": "stderr",
     "output_type": "stream",
     "text": [
      "You are using a model of type roberta to instantiate a model of type masked_roberta. This is not supported for all configurations of models and can yield errors.\n",
      "Some weights of the model checkpoint at vinai/phobert-base were not used when initializing MaskedRobertaForTokenClassification: ['lm_head.dense.weight', 'lm_head.decoder.bias', 'lm_head.layer_norm.bias', 'lm_head.decoder.weight', 'lm_head.dense.bias', 'lm_head.bias', 'lm_head.layer_norm.weight']\n",
      "- This IS expected if you are initializing MaskedRobertaForTokenClassification from the checkpoint of a model trained on another task or with another architecture (e.g. initializing a BertForSequenceClassification model from a BertForPreTraining model).\n",
      "- This IS NOT expected if you are initializing MaskedRobertaForTokenClassification from the checkpoint of a model that you expect to be exactly identical (initializing a BertForSequenceClassification model from a BertForSequenceClassification model).\n",
      "Some weights of MaskedRobertaForTokenClassification were not initialized from the model checkpoint at vinai/phobert-base and are newly initialized: ['roberta.encoder.layer.7.attention.self.value.mask_scores', 'roberta.encoder.layer.2.attention.output.dense.threshold_row', 'roberta.encoder.layer.7.attention.self.value.threshold_head', 'roberta.encoder.layer.0.attention.self.value.mask_scores', 'roberta.encoder.layer.8.attention.self.key.mask_scores', 'roberta.encoder.layer.11.intermediate.dense.mask_scores', 'roberta.encoder.layer.11.output.dense.mask_scores', 'roberta.encoder.layer.3.attention.self.value.head_mask_scores', 'roberta.encoder.layer.1.attention.output.dense.mask_scores', 'roberta.encoder.layer.8.intermediate.dense.threshold_row', 'roberta.encoder.layer.3.attention.self.value.threshold_head', 'roberta.encoder.layer.5.attention.self.query.head_mask_scores', 'roberta.encoder.layer.6.attention.output.dense.threshold_row', 'roberta.encoder.layer.9.attention.self.key.threshold_head', 'roberta.encoder.layer.2.intermediate.dense.threshold_row', 'roberta.encoder.layer.11.attention.output.dense.threshold_row', 'roberta.encoder.layer.6.attention.self.value.threshold_head', 'roberta.encoder.layer.5.intermediate.dense.threshold_row', 'roberta.encoder.layer.3.attention.output.dense.threshold_row', 'roberta.encoder.layer.8.attention.self.value.threshold_head', 'roberta.encoder.layer.2.attention.self.value.mask_scores', 'roberta.encoder.layer.0.attention.output.dense.threshold_row', 'roberta.encoder.layer.2.attention.self.key.mask_scores', 'roberta.encoder.layer.9.attention.self.key.mask_scores', 'roberta.encoder.layer.10.intermediate.dense.mask_scores', 'roberta.encoder.layer.4.attention.output.dense.threshold_row', 'roberta.encoder.layer.8.attention.self.key.threshold_head', 'roberta.encoder.layer.1.intermediate.dense.mask_scores', 'roberta.encoder.layer.4.attention.output.dense.mask_scores', 'roberta.encoder.layer.0.intermediate.dense.mask_scores', 'roberta.encoder.layer.1.attention.self.key.head_mask_scores', 'roberta.encoder.layer.4.output.dense.threshold_row', 'roberta.encoder.layer.11.attention.output.dense.mask_scores', 'roberta.encoder.layer.8.output.dense.threshold_row', 'roberta.encoder.layer.8.attention.self.query.head_mask_scores', 'roberta.encoder.layer.11.output.dense.threshold_row', 'roberta.encoder.layer.5.attention.self.key.head_mask_scores', 'roberta.encoder.layer.2.attention.self.value.threshold_head', 'roberta.encoder.layer.9.attention.self.query.threshold_head', 'roberta.encoder.layer.8.attention.output.dense.threshold_row', 'roberta.encoder.layer.2.attention.self.query.head_mask_scores', 'roberta.encoder.layer.2.output.dense.mask_scores', 'roberta.encoder.layer.0.attention.self.query.mask_scores', 'roberta.encoder.layer.3.attention.self.query.mask_scores', 'roberta.encoder.layer.9.attention.self.key.head_mask_scores', 'roberta.encoder.layer.10.output.dense.mask_scores', 'roberta.encoder.layer.9.attention.self.value.mask_scores', 'roberta.encoder.layer.0.intermediate.dense.threshold_row', 'roberta.encoder.layer.9.attention.output.dense.mask_scores', 'roberta.encoder.layer.11.attention.self.key.mask_scores', 'roberta.encoder.layer.6.attention.self.query.threshold_head', 'roberta.encoder.layer.5.attention.self.key.threshold_head', 'roberta.encoder.layer.1.attention.self.key.threshold_head', 'roberta.encoder.layer.6.attention.self.key.threshold_head', 'roberta.encoder.layer.6.attention.output.dense.mask_scores', 'roberta.encoder.layer.9.output.dense.mask_scores', 'roberta.encoder.layer.4.attention.self.query.mask_scores', 'roberta.encoder.layer.0.attention.self.key.head_mask_scores', 'roberta.encoder.layer.6.attention.self.query.mask_scores', 'roberta.encoder.layer.7.attention.self.query.mask_scores', 'roberta.encoder.layer.3.output.dense.threshold_row', 'roberta.encoder.layer.8.attention.self.query.threshold_head', 'roberta.encoder.layer.9.attention.self.value.threshold_head', 'roberta.encoder.layer.10.attention.self.key.mask_scores', 'roberta.encoder.layer.6.attention.self.key.head_mask_scores', 'roberta.encoder.layer.8.attention.self.value.mask_scores', 'roberta.encoder.layer.7.attention.self.query.threshold_head', 'roberta.encoder.layer.3.attention.output.dense.mask_scores', 'roberta.encoder.layer.6.attention.self.value.head_mask_scores', 'roberta.encoder.layer.9.attention.self.value.head_mask_scores', 'roberta.encoder.layer.1.attention.output.dense.threshold_row', 'roberta.encoder.layer.9.attention.output.dense.threshold_row', 'roberta.encoder.layer.6.intermediate.dense.mask_scores', 'roberta.encoder.layer.5.attention.self.value.mask_scores', 'roberta.encoder.layer.2.attention.self.key.threshold_head', 'roberta.encoder.layer.10.attention.self.key.head_mask_scores', 'roberta.encoder.layer.11.attention.self.query.mask_scores', 'roberta.encoder.layer.10.attention.self.value.threshold_head', 'roberta.encoder.layer.4.attention.self.key.threshold_head', 'roberta.encoder.layer.4.attention.self.key.mask_scores', 'roberta.encoder.layer.5.attention.self.query.threshold_head', 'roberta.encoder.layer.4.attention.self.key.head_mask_scores', 'roberta.encoder.layer.11.attention.self.value.mask_scores', 'roberta.encoder.layer.10.attention.self.value.mask_scores', 'roberta.encoder.layer.11.attention.self.value.threshold_head', 'roberta.encoder.layer.8.attention.self.value.head_mask_scores', 'roberta.encoder.layer.7.attention.self.value.head_mask_scores', 'roberta.encoder.layer.0.attention.self.value.head_mask_scores', 'roberta.encoder.layer.5.attention.self.query.mask_scores', 'roberta.encoder.layer.0.output.dense.mask_scores', 'roberta.encoder.layer.7.intermediate.dense.threshold_row', 'roberta.encoder.layer.0.attention.self.key.threshold_head', 'roberta.encoder.layer.9.output.dense.threshold_row', 'roberta.encoder.layer.6.output.dense.mask_scores', 'roberta.encoder.layer.2.attention.self.query.threshold_head', 'roberta.encoder.layer.5.attention.output.dense.mask_scores', 'roberta.encoder.layer.4.attention.self.value.head_mask_scores', 'roberta.encoder.layer.1.attention.self.query.threshold_head', 'roberta.encoder.layer.5.attention.self.value.head_mask_scores', 'roberta.encoder.layer.7.output.dense.threshold_row', 'roberta.encoder.layer.1.attention.self.value.head_mask_scores', 'roberta.encoder.layer.11.attention.self.query.threshold_head', 'roberta.encoder.layer.10.attention.self.query.mask_scores', 'roberta.encoder.layer.5.output.dense.mask_scores', 'roberta.encoder.layer.4.intermediate.dense.mask_scores', 'roberta.encoder.layer.3.attention.self.key.head_mask_scores', 'roberta.encoder.layer.1.attention.self.query.head_mask_scores', 'roberta.encoder.layer.5.attention.self.value.threshold_head', 'roberta.encoder.layer.4.attention.self.query.head_mask_scores', 'roberta.encoder.layer.2.attention.output.dense.mask_scores', 'roberta.encoder.layer.7.attention.output.dense.mask_scores', 'roberta.encoder.layer.2.attention.self.key.head_mask_scores', 'roberta.encoder.layer.0.output.dense.threshold_row', 'roberta.encoder.layer.11.attention.self.query.head_mask_scores', 'roberta.encoder.layer.3.attention.self.key.threshold_head', 'roberta.encoder.layer.0.attention.self.value.threshold_head', 'roberta.encoder.layer.7.output.dense.mask_scores', 'roberta.encoder.layer.1.attention.self.key.mask_scores', 'roberta.encoder.layer.3.intermediate.dense.threshold_row', 'roberta.encoder.layer.7.attention.self.key.mask_scores', 'roberta.encoder.layer.2.attention.self.value.head_mask_scores', 'roberta.encoder.layer.3.intermediate.dense.mask_scores', 'roberta.encoder.layer.7.intermediate.dense.mask_scores', 'roberta.encoder.layer.4.attention.self.value.threshold_head', 'roberta.encoder.layer.1.intermediate.dense.threshold_row', 'roberta.encoder.layer.5.attention.self.key.mask_scores', 'roberta.encoder.layer.9.intermediate.dense.mask_scores', 'roberta.encoder.layer.11.attention.self.value.head_mask_scores', 'roberta.encoder.layer.1.attention.self.value.mask_scores', 'roberta.encoder.layer.8.attention.self.query.mask_scores', 'roberta.encoder.layer.0.attention.self.key.mask_scores', 'roberta.encoder.layer.10.output.dense.threshold_row', 'roberta.encoder.layer.8.intermediate.dense.mask_scores', 'roberta.encoder.layer.1.output.dense.threshold_row', 'roberta.encoder.layer.4.attention.self.query.threshold_head', 'roberta.encoder.layer.4.output.dense.mask_scores', 'roberta.encoder.layer.1.attention.self.query.mask_scores', 'roberta.encoder.layer.6.intermediate.dense.threshold_row', 'roberta.encoder.layer.7.attention.self.key.threshold_head', 'roberta.encoder.layer.0.attention.self.query.threshold_head', 'roberta.encoder.layer.1.attention.self.value.threshold_head', 'roberta.encoder.layer.3.attention.self.key.mask_scores', 'classifier.bias', 'roberta.encoder.layer.10.attention.self.query.head_mask_scores', 'roberta.encoder.layer.2.output.dense.threshold_row', 'classifier.weight', 'roberta.encoder.layer.3.attention.self.value.mask_scores', 'roberta.encoder.layer.1.output.dense.mask_scores', 'roberta.encoder.layer.11.attention.self.key.threshold_head', 'roberta.encoder.layer.11.attention.self.key.head_mask_scores', 'roberta.encoder.layer.11.intermediate.dense.threshold_row', 'roberta.encoder.layer.3.output.dense.mask_scores', 'roberta.encoder.layer.6.attention.self.value.mask_scores', 'roberta.encoder.layer.2.attention.self.query.mask_scores', 'roberta.encoder.layer.7.attention.output.dense.threshold_row', 'roberta.encoder.layer.10.attention.output.dense.threshold_row', 'roberta.encoder.layer.8.attention.self.key.head_mask_scores', 'roberta.encoder.layer.2.intermediate.dense.mask_scores', 'roberta.encoder.layer.4.attention.self.value.mask_scores', 'roberta.encoder.layer.3.attention.self.query.threshold_head', 'roberta.encoder.layer.5.output.dense.threshold_row', 'roberta.encoder.layer.9.attention.self.query.head_mask_scores', 'roberta.encoder.layer.10.attention.self.value.head_mask_scores', 'roberta.encoder.layer.0.attention.output.dense.mask_scores', 'roberta.encoder.layer.8.attention.output.dense.mask_scores', 'roberta.encoder.layer.6.attention.self.key.mask_scores', 'roberta.encoder.layer.6.attention.self.query.head_mask_scores', 'roberta.encoder.layer.6.output.dense.threshold_row', 'roberta.encoder.layer.8.output.dense.mask_scores', 'roberta.encoder.layer.10.attention.self.key.threshold_head', 'roberta.encoder.layer.9.intermediate.dense.threshold_row', 'roberta.encoder.layer.10.intermediate.dense.threshold_row', 'roberta.encoder.layer.9.attention.self.query.mask_scores', 'roberta.encoder.layer.3.attention.self.query.head_mask_scores', 'roberta.encoder.layer.5.intermediate.dense.mask_scores', 'roberta.encoder.layer.7.attention.self.key.head_mask_scores', 'roberta.encoder.layer.10.attention.output.dense.mask_scores', 'roberta.encoder.layer.4.intermediate.dense.threshold_row', 'roberta.encoder.layer.7.attention.self.query.head_mask_scores', 'roberta.encoder.layer.0.attention.self.query.head_mask_scores', 'roberta.encoder.layer.5.attention.output.dense.threshold_row', 'roberta.encoder.layer.10.attention.self.query.threshold_head']\n",
      "You should probably TRAIN this model on a down-stream task to be able to use it for predictions and inference.\n"
     ]
    },
    {
     "name": "stdout",
     "output_type": "stream",
     "text": [
      "Loaded model\n"
     ]
    }
   ],
   "source": [
    "CHECKPOINT_PATH = 'checkpoint/HRPruning_POS_Pretrained_phoBERT.pt'\n",
    "num_classes = len(target_list)\n",
    "config = MaskedRobertaConfigForTokenClassification.from_pretrained(\n",
    "        \"vinai/phobert-base\",\n",
    "        pruning_method=\"topK\",\n",
    "        mask_init=\"constant\",\n",
    "        mask_scale=0.0,\n",
    "        classifier_dropout=0.0,\n",
    "        num_labels=num_classes\n",
    "    )\n",
    "\n",
    "model = MaskedRobertaForTokenClassification.from_pretrained(\n",
    "        \"vinai/phobert-base\",\n",
    "        config=config,\n",
    "    )\n",
    "model.to(device)\n",
    "model.load_state_dict(torch.load(CHECKPOINT_PATH))\n",
    "\n",
    "print('Loaded model')"
   ]
  },
  {
   "cell_type": "code",
   "execution_count": 12,
   "id": "d548e5d2",
   "metadata": {},
   "outputs": [
    {
     "name": "stdout",
     "output_type": "stream",
     "text": [
      "roberta.encoder.layer.0.attention.self.query.threshold_head 0.9999545812606812\n",
      "roberta.encoder.layer.0.attention.output.dense.threshold_row 0.9999545812606812\n",
      "roberta.encoder.layer.0.intermediate.dense.threshold_row 0.9999545812606812\n",
      "roberta.encoder.layer.0.output.dense.threshold_row 0.9999545812606812\n",
      "roberta.encoder.layer.1.attention.self.query.threshold_head 0.9999545812606812\n",
      "roberta.encoder.layer.1.attention.output.dense.threshold_row 0.9999545812606812\n",
      "roberta.encoder.layer.1.intermediate.dense.threshold_row 0.9999545812606812\n",
      "roberta.encoder.layer.1.output.dense.threshold_row 0.9999545812606812\n",
      "roberta.encoder.layer.2.attention.self.query.threshold_head 0.9999545812606812\n",
      "roberta.encoder.layer.2.attention.output.dense.threshold_row 0.9999545812606812\n",
      "roberta.encoder.layer.2.intermediate.dense.threshold_row 0.9999545812606812\n",
      "roberta.encoder.layer.2.output.dense.threshold_row 0.9999545812606812\n",
      "roberta.encoder.layer.3.attention.self.query.threshold_head 0.9999545812606812\n",
      "roberta.encoder.layer.3.attention.output.dense.threshold_row 0.9999545812606812\n",
      "roberta.encoder.layer.3.intermediate.dense.threshold_row 0.9999545812606812\n",
      "roberta.encoder.layer.3.output.dense.threshold_row 0.9999545812606812\n",
      "roberta.encoder.layer.4.attention.self.query.threshold_head 0.9999545812606812\n",
      "roberta.encoder.layer.4.attention.output.dense.threshold_row 0.9999545812606812\n",
      "roberta.encoder.layer.4.intermediate.dense.threshold_row 0.9999545812606812\n",
      "roberta.encoder.layer.4.output.dense.threshold_row 0.9999545812606812\n",
      "roberta.encoder.layer.5.attention.self.query.threshold_head 0.9999545812606812\n",
      "roberta.encoder.layer.5.attention.output.dense.threshold_row 0.9999545812606812\n",
      "roberta.encoder.layer.5.intermediate.dense.threshold_row 0.9999545812606812\n",
      "roberta.encoder.layer.5.output.dense.threshold_row 0.9999545812606812\n",
      "roberta.encoder.layer.6.attention.self.query.threshold_head 0.9999545812606812\n",
      "roberta.encoder.layer.6.attention.output.dense.threshold_row 0.9999545812606812\n",
      "roberta.encoder.layer.6.intermediate.dense.threshold_row 0.9999545812606812\n",
      "roberta.encoder.layer.6.output.dense.threshold_row 0.9999545812606812\n",
      "roberta.encoder.layer.7.attention.self.query.threshold_head 0.9999545812606812\n",
      "roberta.encoder.layer.7.attention.output.dense.threshold_row 0.9999545812606812\n",
      "roberta.encoder.layer.7.intermediate.dense.threshold_row 0.9999545812606812\n",
      "roberta.encoder.layer.7.output.dense.threshold_row 0.9999545812606812\n",
      "roberta.encoder.layer.8.attention.self.query.threshold_head 0.9999545812606812\n",
      "roberta.encoder.layer.8.attention.output.dense.threshold_row 0.9999545812606812\n",
      "roberta.encoder.layer.8.intermediate.dense.threshold_row 0.9999545812606812\n",
      "roberta.encoder.layer.8.output.dense.threshold_row 0.9999545812606812\n",
      "roberta.encoder.layer.9.attention.self.query.threshold_head 0.9999545812606812\n",
      "roberta.encoder.layer.9.attention.output.dense.threshold_row 0.9999545812606812\n",
      "roberta.encoder.layer.9.intermediate.dense.threshold_row 0.9999545812606812\n",
      "roberta.encoder.layer.9.output.dense.threshold_row 0.9999545812606812\n",
      "roberta.encoder.layer.10.attention.self.query.threshold_head 0.9999545812606812\n",
      "roberta.encoder.layer.10.attention.output.dense.threshold_row 0.9999545812606812\n",
      "roberta.encoder.layer.10.intermediate.dense.threshold_row 0.9999545812606812\n",
      "roberta.encoder.layer.10.output.dense.threshold_row 0.9999545812606812\n",
      "roberta.encoder.layer.11.attention.self.query.threshold_head 0.9999545812606812\n",
      "roberta.encoder.layer.11.attention.output.dense.threshold_row 0.9999545812606812\n",
      "roberta.encoder.layer.11.intermediate.dense.threshold_row 0.9999545812606812\n",
      "roberta.encoder.layer.11.output.dense.threshold_row 0.9999545812606812\n"
     ]
    }
   ],
   "source": [
    "for name, param in model.named_parameters():\n",
    "    if (\"threshold\" in name):\n",
    "        print(name, torch.sigmoid(param).item())"
   ]
  }
 ],
 "metadata": {
  "kernelspec": {
   "display_name": "Python 3 (ipykernel)",
   "language": "python",
   "name": "python3"
  },
  "language_info": {
   "codemirror_mode": {
    "name": "ipython",
    "version": 3
   },
   "file_extension": ".py",
   "mimetype": "text/x-python",
   "name": "python",
   "nbconvert_exporter": "python",
   "pygments_lexer": "ipython3",
   "version": "3.8.12"
  }
 },
 "nbformat": 4,
 "nbformat_minor": 5
}
